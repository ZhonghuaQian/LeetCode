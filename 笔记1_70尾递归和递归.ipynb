{
 "cells": [
  {
   "cell_type": "markdown",
   "metadata": {},
   "source": [
    "# 尾递归与递归\n",
    "LeetCode 第70题总结"
   ]
  },
  {
   "cell_type": "markdown",
   "metadata": {},
   "source": [
    "**题目描述**:You are climbing a stair case. It takes n steps to reach to the top.\n",
    "\n",
    "Each time you can either climb 1 or 2 steps. In how many distinct ways can you climb to the top?\n",
    "\n",
    "Note: Given n will be a positive integer."
   ]
  },
  {
   "cell_type": "markdown",
   "metadata": {},
   "source": [
    "**解法1**：普通递归"
   ]
  },
  {
   "cell_type": "code",
   "execution_count": 17,
   "metadata": {
    "collapsed": false
   },
   "outputs": [
    {
     "name": "stdout",
     "output_type": "stream",
     "text": [
      "987\n",
      "Wall time: 3.01 ms\n"
     ]
    }
   ],
   "source": [
    "class Solution(object):\n",
    "    def climbStairs(self, n):\n",
    "        if n <= 1:\n",
    "            return 1\n",
    "        return self.climbStairs(n - 1) + self.climbStairs(n - 2)\n",
    "    \n",
    "answer = Solution()\n",
    "%time print(answer.climbStairs(15))"
   ]
  },
  {
   "cell_type": "markdown",
   "metadata": {
    "collapsed": true
   },
   "source": [
    "- 普通递归的效率较慢，原因在于需要多次调用函数，而改成尾递归可以优化效率。\n",
    "- 普通递归会存在栈溢出[1][zanyichu]的风险，而尾递归不会。\n",
    "[zanyichu]:http://www.nowamagic.net/librarys/veda/detail/2325"
   ]
  },
  {
   "cell_type": "markdown",
   "metadata": {},
   "source": [
    "**解法2**：尾递归"
   ]
  },
  {
   "cell_type": "code",
   "execution_count": 19,
   "metadata": {
    "collapsed": false
   },
   "outputs": [
    {
     "name": "stdout",
     "output_type": "stream",
     "text": [
      "987\n",
      "Wall time: 0 ns\n"
     ]
    }
   ],
   "source": [
    "class Solution(object):\n",
    "    def climbStairs_tail(self, n, count1, count2):\n",
    "        if n < 2:\n",
    "            return count2\n",
    "        return self.climbStairs_tail(n-1, count2, count1 + count2)\n",
    "        \n",
    "    def climbStairs(self, n):\n",
    "        \"\"\"\n",
    "        :type n: int\n",
    "        :rtype: int\n",
    "        \"\"\"\n",
    "        return self.climbStairs_tail(n, 1, 1) #为了不引起理解混乱，另写一个函数，1，1是初值。\n",
    "answer = Solution()\n",
    "%time print(answer.climbStairs(15))  #%time是python魔术函数，用于测试某条语句运行时间"
   ]
  },
  {
   "cell_type": "markdown",
   "metadata": {},
   "source": [
    "**尾递归**是指函数返回时，调用函数本身，并且**return语句不含有表达式**，这样调用函数**类似于循环语句**，不会产生大量由于调用函数而产生的内存，\n",
    "因而不会有栈溢出的问题。很多语言都可以根据这个特点对尾递归做相应的时间和空间优化。[2][liao_blog]\n",
    "[liao_blog]:https://www.liaoxuefeng.com/wiki/001374738125095c955c1e6d8bb493182103fac9270762a000/00137473836826348026db722d9435483fa38c137b7e685000)"
   ]
  },
  {
   "cell_type": "markdown",
   "metadata": {},
   "source": [
    "## 如何改写尾递归"
   ]
  },
  {
   "cell_type": "markdown",
   "metadata": {},
   "source": [
    "尾递归函数没有中间变量，所以需要把普通递归中的中间变量（return语句中的代数表达式产生的中间变量）写到函数参数中去，然后在调用函数时对参数可以做表达式处理。"
   ]
  },
  {
   "cell_type": "markdown",
   "metadata": {},
   "source": []
  },
  {
   "cell_type": "markdown",
   "metadata": {},
   "source": [
    "## 尾递归举例： 二进制加法"
   ]
  },
  {
   "cell_type": "code",
   "execution_count": 59,
   "metadata": {
    "collapsed": false
   },
   "outputs": [
    {
     "name": "stdout",
     "output_type": "stream",
     "text": [
      "Wall time: 1 ms\n",
      "[0, 1, 1, 0, 1, 0, 1, 1, 0, 0, 1, 1, 0, 1, 0]\n"
     ]
    }
   ],
   "source": [
    "def addBinary(a, b, c, result):\n",
    "    '''\n",
    "    二进制加法，a, b是两个0、1序列list，如a=[0,1,0,0],b=[0,0,1,0],默认a的位数等于b\n",
    "    '''\n",
    "    if len(a) == 1:\n",
    "        result.append(c)\n",
    "        return result\n",
    "    d = a[-1] + b[-1] + c\n",
    "    result.append(d % 2)\n",
    "    addBinary(a[0 : -1], b[0 : -1], d // 2, result)\n",
    "\n",
    "def add(a, b):\n",
    "    result = []\n",
    "    addBinary(a, b, 0, result)\n",
    "    return result\n",
    "\n",
    "%time answer = add([0,1,0, 0,1,0, 1,1,0, 0,1,1, 0,1,1], [0,0,0, 1,1,1, 1,1,1, 1,1,1, 1,1,1])\n",
    "answer.reverse()\n",
    "print(answer)\n",
    "    "
   ]
  },
  {
   "cell_type": "markdown",
   "metadata": {},
   "source": [
    "## 参考资料\n",
    "- [漫谈递归：从斐波那契开始了解尾递归](http://www.nowamagic.net/librarys/veda/detail/2325)\n",
    "- [廖雪峰python教程：递归函数](https://www.liaoxuefeng.com/wiki/001374738125095c955c1e6d8bb493182103fac9270762a000/00137473836826348026db722d9435483fa38c137b7e685000)"
   ]
  }
 ],
 "metadata": {
  "kernelspec": {
   "display_name": "Python 3",
   "language": "python",
   "name": "python3"
  },
  "language_info": {
   "codemirror_mode": {
    "name": "ipython",
    "version": 3
   },
   "file_extension": ".py",
   "mimetype": "text/x-python",
   "name": "python",
   "nbconvert_exporter": "python",
   "pygments_lexer": "ipython3",
   "version": "3.5.3"
  }
 },
 "nbformat": 4,
 "nbformat_minor": 0
}
