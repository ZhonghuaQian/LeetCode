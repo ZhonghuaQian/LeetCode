{
 "cells": [
  {
   "cell_type": "markdown",
   "metadata": {},
   "source": [
    "# anconda多版本管理\n",
    "\n",
    "## 为什么需要多版本管理\n",
    "anaconda分为ancacona2和anaconda3，分别运行的是python2.\\* 和python3.\\*的解释器。我们碰到的代码有时是python2的，有时是python3，所以需要来回切换。\n",
    "\n",
    "## 如何管理：conda\n",
    "conda是一个**包管理器** 和 **环境管理器**。\n",
    "\n",
    "### conda作为包管理器\n",
    "1. 安装包\n",
    "```python\n",
    "conda install nunmpy\n",
    "```\n",
    "2. 更新包\n",
    "```python\n",
    "conda update nunmpy\n",
    "conda update conda\n",
    "```\n",
    "3. 删除包\n",
    "```python\n",
    "conda remove numpy\n",
    "```\n",
    "4. 其他功能可以google\n",
    "\n",
    "### conda作为环境管理器\n",
    "我们有时需要python2，有时需要python3，这就是两种不同的**环境**\n",
    "假设我们默认装的是python3，需要装一个python2的环境，并且切换到python2下工作，最后切换回python3，该怎么做呢？\n",
    "1. 安装python2\n",
    "```python\n",
    "conda create -n python27(环境的名字，自己取) python = 2.7\n",
    "```\n",
    "2. 切换到python27环境下\n",
    "```python\n",
    "activate python27\n",
    "```\n",
    "注意这时命令行前面出现了(python27)的字样\n",
    "3. 在python27环境下安装包\n",
    "```python \n",
    "conda --update\n",
    "conda install numpy(你想安装的包)\n",
    "```\n",
    "如果你懒得一个个装包，就直接创建anaconda2默认的包库\n",
    "```python \n",
    "conda install anaconda\n",
    "```\n",
    "这样包就比较全了，常见的包都有，不够再装。\n",
    "4. 退出python27环境\n",
    "\n",
    "    * windows\n",
    "```python\n",
    "deactivate python27\n",
    "```\n",
    "\n",
    "    * linux/mac\n",
    "```python\n",
    "source deactivate python27\n",
    "```\n",
    "注意在cmd中直接运行python默认是root环境，你原来安装的是哪个python版本，root就是哪个版本\n",
    "\n"
   ]
  },
  {
   "cell_type": "code",
   "execution_count": null,
   "metadata": {
    "collapsed": true
   },
   "outputs": [],
   "source": []
  },
  {
   "cell_type": "code",
   "execution_count": null,
   "metadata": {
    "collapsed": true
   },
   "outputs": [],
   "source": []
  }
 ],
 "metadata": {
  "kernelspec": {
   "display_name": "Python 3",
   "language": "python",
   "name": "python3"
  },
  "language_info": {
   "codemirror_mode": {
    "name": "ipython",
    "version": 3
   },
   "file_extension": ".py",
   "mimetype": "text/x-python",
   "name": "python",
   "nbconvert_exporter": "python",
   "pygments_lexer": "ipython3",
   "version": "3.5.3"
  }
 },
 "nbformat": 4,
 "nbformat_minor": 0
}
